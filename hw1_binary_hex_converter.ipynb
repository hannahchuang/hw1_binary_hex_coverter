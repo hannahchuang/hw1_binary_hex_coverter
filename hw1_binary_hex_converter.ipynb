{
  "cells": [
    {
      "cell_type": "code",
      "execution_count": null,
      "id": "e4bfe912-4c73-4d08-ab54-19b93fe32ddb",
      "metadata": {
        "tags": [],
        "id": "e4bfe912-4c73-4d08-ab54-19b93fe32ddb",
        "outputId": "98d551db-2969-42c2-86e8-4c6d32fc0197"
      },
      "outputs": [
        {
          "name": "stdin",
          "output_type": "stream",
          "text": [
            " 234\n"
          ]
        },
        {
          "name": "stdout",
          "output_type": "stream",
          "text": [
            "二進制＝11101010\n",
            "十六進制＝EA\n"
          ]
        }
      ],
      "source": [
        "def Binary_trans(number):\n",
        "    highest = 0 #最高次方\n",
        "    binary = 0 #儲存二進位\n",
        "    while number > 2**highest:\n",
        "        highest = highest + 1 #找到最高次方\n",
        "\n",
        "    while highest!=-1:\n",
        "        if number >= 2**highest: #比較數值最接近於二的幾次方\n",
        "            number = number - 2**highest\n",
        "            binary = binary + 10**highest\n",
        "\n",
        "        highest = highest - 1 #往下減\n",
        "    return binary #回傳二進位\n",
        "\n",
        "def Hexadecimal_trans(number):\n",
        "    hex_ = \"\" #儲存十六進位\n",
        "    while number != 0:\n",
        "        x = number % 10000 #得餘數\n",
        "        number = number // 10000 #得商數\n",
        "\n",
        "        if str(x) == '1':  #轉換成十六進位\n",
        "            hex_ = \"1\" + hex_\n",
        "        elif str(x) == '10':\n",
        "            hex_ = \"2\" + hex_\n",
        "        elif str(x) == '11':\n",
        "            hex_ = \"3\" + hex_\n",
        "        elif str(x) == '100':\n",
        "            hex_ = \"4\" + hex_\n",
        "        elif str(x) == '101':\n",
        "            hex_ = \"5\" + hex_\n",
        "        elif str(x) == '110':\n",
        "            hex_ = \"6\" + hex_\n",
        "        elif str(x) == '111':\n",
        "            hex_ = \"7\" + hex_\n",
        "        elif str(x) == '1000':\n",
        "            hex_ = \"8\" + hex_\n",
        "        elif str(x) == '1001':\n",
        "            hex_ = \"9\" + hex_\n",
        "        elif str(x) == '1010':\n",
        "            hex_ = \"A\" + hex_\n",
        "        elif str(x) == '1011':\n",
        "            hex_ = \"B\" + hex_\n",
        "        elif str(x) == '1100':\n",
        "            hex_ = \"C\" + hex_\n",
        "        elif str(x) == '1101':\n",
        "            hex_ = \"D\" + hex_\n",
        "        elif str(x) == '1110':\n",
        "            hex_ = \"E\" + hex_\n",
        "        elif str(x) == '1111':\n",
        "            hex_ = \"F\" + hex_\n",
        "\n",
        "    return hex_ #回傳十六進位\n",
        "\n",
        "num = input()\n",
        "print(f'二進制＝{Binary_trans(int(num))}')\n",
        "print(f'十六進制＝{Hexadecimal_trans(Binary_trans(int(num)))}')"
      ]
    },
    {
      "cell_type": "code",
      "execution_count": null,
      "id": "f855984b-fba0-4813-bb9e-0968d70432ef",
      "metadata": {
        "id": "f855984b-fba0-4813-bb9e-0968d70432ef"
      },
      "outputs": [],
      "source": []
    }
  ],
  "metadata": {
    "kernelspec": {
      "display_name": "Python 3 (ipykernel)",
      "language": "python",
      "name": "python3"
    },
    "language_info": {
      "codemirror_mode": {
        "name": "ipython",
        "version": 3
      },
      "file_extension": ".py",
      "mimetype": "text/x-python",
      "name": "python",
      "nbconvert_exporter": "python",
      "pygments_lexer": "ipython3",
      "version": "3.11.4"
    },
    "colab": {
      "provenance": []
    }
  },
  "nbformat": 4,
  "nbformat_minor": 5
}